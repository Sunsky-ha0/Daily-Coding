{
 "cells": [
  {
   "cell_type": "code",
   "execution_count": 47,
   "id": "709fc244",
   "metadata": {},
   "outputs": [],
   "source": [
    "import requests\n",
    "import pandas as pd\n",
    "from lxml import etree"
   ]
  },
  {
   "cell_type": "code",
   "execution_count": 63,
   "id": "614e3a1d",
   "metadata": {},
   "outputs": [
    {
     "data": {
      "text/plain": [
       "['https://www.topcubans.com/cuban-cigars/arturo-fuente',\n",
       " 'https://www.topcubans.com/cuban-cigars/ashton',\n",
       " 'https://www.topcubans.com/cuban-cigars/bolivar',\n",
       " 'https://www.topcubans.com/cuban-cigars/camacho',\n",
       " 'https://www.topcubans.com/cuban-cigars/cao',\n",
       " 'https://www.topcubans.com/cuban-cigars/cohiba',\n",
       " 'https://www.topcubans.com/cuban-cigars/combinaciones',\n",
       " 'https://www.topcubans.com/cuban-cigars/corrida',\n",
       " 'https://www.topcubans.com/cuban-cigars/cortez',\n",
       " 'https://www.topcubans.com/cuban-cigars/cuaba',\n",
       " 'https://www.topcubans.com/cuban-cigars/davidoff',\n",
       " 'https://www.topcubans.com/cuban-cigars/diplomaticos',\n",
       " 'https://www.topcubans.com/cuban-cigars/el-rey-del-mundo',\n",
       " 'https://www.topcubans.com/cuban-cigars/fonseca',\n",
       " 'https://www.topcubans.com/cuban-cigars/hedon',\n",
       " 'https://www.topcubans.com/cuban-cigars/h-upmann',\n",
       " 'https://www.topcubans.com/cuban-cigars/hoyo-de-monterrey',\n",
       " 'https://www.topcubans.com/cuban-cigars/juan-lopez',\n",
       " 'https://www.topcubans.com/cuban-cigars/jose-l-piedra',\n",
       " 'https://www.topcubans.com/cuban-cigars/la-aurora',\n",
       " 'https://www.topcubans.com/cuban-cigars/la-estancia',\n",
       " 'https://www.topcubans.com/cuban-cigars/la-gloria-cubana',\n",
       " 'https://www.topcubans.com/cuban-cigars/montecristo',\n",
       " 'https://www.topcubans.com/cuban-cigars/padron',\n",
       " 'https://www.topcubans.com/cuban-cigars/partagas',\n",
       " 'https://www.topcubans.com/cuban-cigars/por-larranaga',\n",
       " 'https://www.topcubans.com/cuban-cigars/punch',\n",
       " 'https://www.topcubans.com/cuban-cigars/quai-d-orsay',\n",
       " 'https://www.topcubans.com/cuban-cigars/quintero-y-hno',\n",
       " 'https://www.topcubans.com/cuban-cigars/rafael-gonzalez',\n",
       " 'https://www.topcubans.com/cuban-cigars/ramon-allones',\n",
       " 'https://www.topcubans.com/cuban-cigars/romeo-y-julieta',\n",
       " 'https://www.topcubans.com/cuban-cigars/san-cristobal-de-la-habana',\n",
       " 'https://www.topcubans.com/cuban-cigars/saint-luis-rey',\n",
       " 'https://www.topcubans.com/cuban-cigars/sancho-panza',\n",
       " 'https://www.topcubans.com/cuban-cigars/trinidad',\n",
       " 'https://www.topcubans.com/cuban-cigars/vegas-robaina',\n",
       " 'https://www.topcubans.com/cuban-cigars/vegueros',\n",
       " 'https://www.topcubans.com/cuban-cigars/dominico',\n",
       " 'https://www.topcubans.com/accessories/ashtrays',\n",
       " 'https://www.topcubans.com/accessories/cigar-cases',\n",
       " 'https://www.topcubans.com/accessories/cutters',\n",
       " 'https://www.topcubans.com/accessories/humidors',\n",
       " 'https://www.topcubans.com/accessories/lighters',\n",
       " 'https://www.topcubans.com/accessories/Instruments']"
      ]
     },
     "execution_count": 63,
     "metadata": {},
     "output_type": "execute_result"
    }
   ],
   "source": [
    "headers = {\n",
    "    'User-Agent':'Mozilla/5.0 (Macintosh; Intel Mac OS X 10_15_7) AppleWebKit/537.36 (KHTML, like Gecko) Chrome/91.0.4472.164 Safari/537.36',\n",
    "}\n",
    "url=\"https://www.topcubans.com/\"\n",
    "response = requests.get(url, headers=headers)\n",
    "text = response.text\n",
    "html = etree.HTML(text)\n",
    "list_brands = []\n",
    "list_brands = html.xpath(\"//ul[@class='menu-list']//li//@href\")\n",
    "list_brands"
   ]
  },
  {
   "cell_type": "code",
   "execution_count": 64,
   "id": "e1c109b7",
   "metadata": {
    "scrolled": false
   },
   "outputs": [],
   "source": [
    "cig_count_dic = {}\n",
    "cig_price_dic = {}\n",
    "for i in range(len(list_brands)):\n",
    "    \n",
    "    headers = {\n",
    "        'User-Agent':'Mozilla/5.0 (Macintosh; Intel Mac OS X 10_15_7) AppleWebKit/537.36 (KHTML, like Gecko) Chrome/91.0.4472.164 Safari/537.36',\n",
    "    }\n",
    "    url=list_brands[i]\n",
    "    response = requests.get(url, headers=headers)\n",
    "    text = response.text\n",
    "    html = etree.HTML(text)\n",
    "    \n",
    "    cigar_brand = html.xpath(\"//div[@class='list-item' and @itemprop='itemListElement']//div[@class='column'][1]/h1\")\n",
    "    cigar_conut = html.xpath(\"//div[@class='list-item' and @itemprop='itemListElement']//div[@class='column'][2]\")\n",
    "    cigar_price = html.xpath(\"//div[@class='list-item' and @itemprop='itemListElement']//div[@class='column'][3]\")\n",
    "\n",
    "    for i in range(len(cigar_brand)):\n",
    "        brand = cigar_brand[i].xpath('string(.)').encode('utf-8').strip()\n",
    "        count = cigar_conut[i].xpath('string(.)').encode('utf-8').strip()\n",
    "        price = cigar_price[i].xpath('string(.)').encode('utf-8').strip()\n",
    "        brand_str = str(brand, encoding = \"utf-8\")\n",
    "        conut_str = str(count, encoding = \"utf-8\")\n",
    "        price_str = str(price, encoding = \"utf-8\").replace(\"\\xa0\",\"\")\n",
    "        cig_count_dic [brand_str] = conut_str\n",
    "        cig_price_dic [brand_str] = price_str"
   ]
  },
  {
   "cell_type": "code",
   "execution_count": 75,
   "id": "29ff2490",
   "metadata": {
    "scrolled": true
   },
   "outputs": [
    {
     "name": "stderr",
     "output_type": "stream",
     "text": [
      "<ipython-input-75-3a11ed26b9ce>:7: FutureWarning: As the xlwt package is no longer maintained, the xlwt engine will be removed in a future version of pandas. This is the only engine in pandas that supports writing in the xls format. Install openpyxl and write to an xlsx file instead. You can set the option io.excel.xls.writer to 'xlwt' to silence this warning. While this option is deprecated and will also raise a warning, it can be globally set and the warning suppressed.\n",
      "  cig_conut.to_excel(\"cigar_count_topcubans.xls\")\n",
      "<ipython-input-75-3a11ed26b9ce>:8: FutureWarning: As the xlwt package is no longer maintained, the xlwt engine will be removed in a future version of pandas. This is the only engine in pandas that supports writing in the xls format. Install openpyxl and write to an xlsx file instead. You can set the option io.excel.xls.writer to 'xlwt' to silence this warning. While this option is deprecated and will also raise a warning, it can be globally set and the warning suppressed.\n",
      "  cig_price.to_excel(\"cigar_price_topcubans.xls\")\n"
     ]
    }
   ],
   "source": [
    "cig_conut = pd.Series(cig_count_dic)\n",
    "cig_price = pd.Series(cig_price_dic)\n",
    "cig_conut.to_excel(\"cigar_count_topcubans.xls\")\n",
    "cig_price.to_excel(\"cigar_price_topcubans.xls\")"
   ]
  },
  {
   "cell_type": "code",
   "execution_count": null,
   "id": "d2393583",
   "metadata": {},
   "outputs": [],
   "source": []
  }
 ],
 "metadata": {
  "kernelspec": {
   "display_name": "Python 3",
   "language": "python",
   "name": "python3"
  },
  "language_info": {
   "codemirror_mode": {
    "name": "ipython",
    "version": 3
   },
   "file_extension": ".py",
   "mimetype": "text/x-python",
   "name": "python",
   "nbconvert_exporter": "python",
   "pygments_lexer": "ipython3",
   "version": "3.8.8"
  },
  "varInspector": {
   "cols": {
    "lenName": 16,
    "lenType": 16,
    "lenVar": 40
   },
   "kernels_config": {
    "python": {
     "delete_cmd_postfix": "",
     "delete_cmd_prefix": "del ",
     "library": "var_list.py",
     "varRefreshCmd": "print(var_dic_list())"
    },
    "r": {
     "delete_cmd_postfix": ") ",
     "delete_cmd_prefix": "rm(",
     "library": "var_list.r",
     "varRefreshCmd": "cat(var_dic_list()) "
    }
   },
   "types_to_exclude": [
    "module",
    "function",
    "builtin_function_or_method",
    "instance",
    "_Feature"
   ],
   "window_display": false
  }
 },
 "nbformat": 4,
 "nbformat_minor": 5
}
